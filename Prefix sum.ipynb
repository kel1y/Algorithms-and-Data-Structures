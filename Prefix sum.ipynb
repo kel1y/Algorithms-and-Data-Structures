{
 "cells": [
  {
   "cell_type": "code",
   "execution_count": 5,
   "id": "dc9b0edb",
   "metadata": {},
   "outputs": [
    {
     "name": "stdout",
     "output_type": "stream",
     "text": [
      "[3, 8, 10, 20]\n"
     ]
    }
   ],
   "source": [
    "def prefix_sum(array, i):\n",
    "    output = [0]\n",
    "    for element in range(i):\n",
    "        output.append(output[-1] + array[element])\n",
    "    output.pop(0)\n",
    "    return output\n",
    "\n",
    "prefix = prefix_sum([3,5,2,10], 4)\n",
    "\n",
    "print(prefix)\n",
    "        "
   ]
  }
 ],
 "metadata": {
  "kernelspec": {
   "display_name": "Python 3 (ipykernel)",
   "language": "python",
   "name": "python3"
  },
  "language_info": {
   "codemirror_mode": {
    "name": "ipython",
    "version": 3
   },
   "file_extension": ".py",
   "mimetype": "text/x-python",
   "name": "python",
   "nbconvert_exporter": "python",
   "pygments_lexer": "ipython3",
   "version": "3.9.13"
  }
 },
 "nbformat": 4,
 "nbformat_minor": 5
}
