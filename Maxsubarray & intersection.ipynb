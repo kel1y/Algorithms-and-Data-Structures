{
 "cells": [
  {
   "cell_type": "code",
   "execution_count": null,
   "id": "fb46145e",
   "metadata": {},
   "outputs": [],
   "source": [
    "def max_subarray(array):\n",
    "    best_sum = [0]\n",
    "    max_sum = []\n",
    "    for i, element in enumerate(array):\n",
    "        best_sum = max(element, best_sum + i)\n",
    "        max_sum = max(best_sum, max_sum)\n",
    "    return max_sum\n",
    "\n",
    "print(max_subarray([1,4,3,6,2,9,7,4,6]))"
   ]
  },
  {
   "cell_type": "code",
   "execution_count": 3,
   "id": "da770a24",
   "metadata": {},
   "outputs": [
    {
     "name": "stdout",
     "output_type": "stream",
     "text": [
      "[2, 9, 5]\n"
     ]
    }
   ],
   "source": [
    "def intersection_of_array(array_1, array_2):\n",
    "    \n",
    "    dictionary = {}\n",
    "    \n",
    "    intersection = []\n",
    "\n",
    "    for element in array_1:\n",
    "        dictionary[element] = dictionary.get(element, 0) + 1\n",
    "        if dictionary[element] > 1:\n",
    "            dictionary[element] =- 1\n",
    "\n",
    "    for element in array_2:\n",
    "        dictionary[element] = dictionary.get(element, 0) + 1\n",
    "        if dictionary[element] > 1:\n",
    "            intersection.append(element)\n",
    "            \n",
    "    return intersection\n",
    "\n",
    "\n",
    "print(intersection_of_array([5,2,8,9], [3, 2, 9, 5]))\n",
    "\n"
   ]
  },
  {
   "cell_type": "code",
   "execution_count": null,
   "id": "fbea1a06",
   "metadata": {},
   "outputs": [],
   "source": []
  }
 ],
 "metadata": {
  "kernelspec": {
   "display_name": "Python 3 (ipykernel)",
   "language": "python",
   "name": "python3"
  },
  "language_info": {
   "codemirror_mode": {
    "name": "ipython",
    "version": 3
   },
   "file_extension": ".py",
   "mimetype": "text/x-python",
   "name": "python",
   "nbconvert_exporter": "python",
   "pygments_lexer": "ipython3",
   "version": "3.9.13"
  }
 },
 "nbformat": 4,
 "nbformat_minor": 5
}
